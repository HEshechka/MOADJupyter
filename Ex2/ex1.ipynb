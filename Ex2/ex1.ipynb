{
 "cells": [
  {
   "cell_type": "code",
   "id": "initial_id",
   "metadata": {
    "collapsed": true,
    "ExecuteTime": {
     "end_time": "2025-02-25T06:53:00.560276Z",
     "start_time": "2025-02-25T06:53:00.557102Z"
    }
   },
   "source": [
    "import pandas as pd\n",
    "import numpy as np\n",
    "import matplotlib.pyplot as plt\n",
    "import seaborn as sns\n",
    "from scipy import stats"
   ],
   "execution_count": 39,
   "outputs": []
  },
  {
   "metadata": {
    "ExecuteTime": {
     "end_time": "2025-02-25T06:53:00.583565Z",
     "start_time": "2025-02-25T06:53:00.574860Z"
    }
   },
   "cell_type": "code",
   "source": [
    "data = pd.read_csv('rus_leader_heights.csv')\n",
    "print(data.head())"
   ],
   "id": "86e9f91fbf6ef7c7",
   "execution_count": 40,
   "outputs": []
  },
  {
   "metadata": {},
   "cell_type": "markdown",
   "source": "Выборка данных роста:",
   "id": "d58aec23c2257b7c"
  },
  {
   "metadata": {
    "ExecuteTime": {
     "end_time": "2025-02-25T06:53:00.595860Z",
     "start_time": "2025-02-25T06:53:00.592847Z"
    }
   },
   "cell_type": "code",
   "source": "heights = np.array(data[\"height(sm)\"])",
   "id": "c9856531c953bca4",
   "execution_count": 41,
   "outputs": []
  },
  {
   "metadata": {},
   "cell_type": "markdown",
   "source": "Проверка на пустые значения и удаление пустых значений:",
   "id": "2fcd971186cac995"
  },
  {
   "metadata": {
    "ExecuteTime": {
     "end_time": "2025-02-25T06:53:00.599950Z",
     "start_time": "2025-02-25T06:53:00.597159Z"
    }
   },
   "cell_type": "code",
   "source": [
    "np.isnan(heights)\n",
    "np.count_nonzero(heights)\n",
    "heights = heights[~np.isnan(heights)]"
   ],
   "id": "69652c00caf025a0",
   "execution_count": 42,
   "outputs": []
  },
  {
   "metadata": {},
   "cell_type": "markdown",
   "source": "",
   "id": "b35f292b3822f7f1"
  },
  {
   "metadata": {
    "ExecuteTime": {
     "end_time": "2025-02-25T06:53:00.605690Z",
     "start_time": "2025-02-25T06:53:00.600891Z"
    }
   },
   "cell_type": "code",
   "source": [
    "print(\"Mead of heights = \", heights.mean())\n",
    "print(\"Median of heights = \", np.median(heights))\n",
    "print(\"Variance of height = \",heights.var())\n",
    "print(\"Standard Deviation of heights = \", heights.std())\n",
    "print(\"Mode of height = \", stats.mode(heights))\n",
    "print(\"Minimum height = \", heights.min())\n",
    "print(\"Maximum height = \", heights.max())"
   ],
   "id": "b81bd75dbe23e578",
   "execution_count": 43,
   "outputs": []
  },
  {
   "metadata": {},
   "cell_type": "markdown",
   "source": "Построение графиков:",
   "id": "c60988fb88f77567"
  },
  {
   "metadata": {
    "ExecuteTime": {
     "end_time": "2025-02-25T06:53:00.673705Z",
     "start_time": "2025-02-25T06:53:00.608511Z"
    }
   },
   "cell_type": "code",
   "source": [
    "plt.hist(heights)\n",
    "plt.title(\"Heights Distribution of Leaders of Russia\")\n",
    "plt.xlabel(\"Height(sm)\")\n",
    "plt.ylabel(\"Number\")\n",
    "plt.show()"
   ],
   "id": "e1a39a3f4921e15f",
   "execution_count": 44,
   "outputs": []
  },
  {
   "metadata": {
    "ExecuteTime": {
     "end_time": "2025-02-25T06:53:00.749883Z",
     "start_time": "2025-02-25T06:53:00.674928Z"
    }
   },
   "cell_type": "code",
   "source": [
    "sns.histplot(heights, kde=True, bins=10)\n",
    "plt.ylabel(\"Number\")\n",
    "plt.show()"
   ],
   "id": "22104bd133cca2b4",
   "execution_count": 45,
   "outputs": []
  },
  {
   "metadata": {},
   "cell_type": "markdown",
   "source": "Asd",
   "id": "980d922e047521ed"
  },
  {
   "metadata": {
    "ExecuteTime": {
     "end_time": "2025-02-25T06:53:00.756585Z",
     "start_time": "2025-02-25T06:53:00.751314Z"
    }
   },
   "cell_type": "code",
   "source": [
    "from scipy.stats import kurtosis, skew\n",
    "print(\"Skewness of normal distribution (should be 0) = \", skew(heights))\n",
    "print(\"Excess kurtosis of normal distribution (should be 0) = \", kurtosis(heights))"
   ],
   "id": "5906ccbb52258d6a",
   "execution_count": 46,
   "outputs": []
  },
  {
   "metadata": {
    "ExecuteTime": {
     "end_time": "2025-02-25T06:53:00.823884Z",
     "start_time": "2025-02-25T06:53:00.759402Z"
    }
   },
   "cell_type": "code",
   "source": [
    "plt.boxplot(heights)\n",
    "plt.ylabel(\"Height(sm)\")\n",
    "plt.show()"
   ],
   "id": "b04d8780354667f4",
   "execution_count": 47,
   "outputs": []
  },
  {
   "metadata": {
    "ExecuteTime": {
     "end_time": "2025-02-25T06:53:00.831527Z",
     "start_time": "2025-02-25T06:53:00.825627Z"
    }
   },
   "cell_type": "code",
   "source": [
    "print(\"25th percentile of heights = \", np.percentile(heights, 25))\n",
    "print(\"50th percentile of heights = \", np.percentile(heights, 50))\n",
    "print(\"75th percentile of heights = \", np.percentile(heights, 75))"
   ],
   "id": "d0cf25423aef3951",
   "execution_count": 48,
   "outputs": []
  },
  {
   "metadata": {},
   "cell_type": "markdown",
   "source": "Удаление выбросов:",
   "id": "337d5799d94e947d"
  },
  {
   "metadata": {
    "ExecuteTime": {
     "end_time": "2025-02-25T07:02:00.468551Z",
     "start_time": "2025-02-25T07:02:00.455248Z"
    }
   },
   "cell_type": "code",
   "source": [
    "filtered_data = [ (data[\"height(sm)\"] >= 120) & (data[\"height(sm)\"] <= 210) ]\n",
    "filtered_data = np.array(filtered_data)\n",
    "print(filtered_data)"
   ],
   "id": "8a2dece7a9327ee9",
   "execution_count": 53,
   "outputs": []
  },
  {
   "metadata": {},
   "cell_type": "code",
   "execution_count": null,
   "source": "",
   "id": "de5cfdbcc4c64bd7",
   "outputs": []
  }
 ],
 "metadata": {
  "kernelspec": {
   "display_name": "Python 3",
   "language": "python",
   "name": "python3"
  },
  "language_info": {
   "codemirror_mode": {
    "name": "ipython",
    "version": 2
   },
   "file_extension": ".py",
   "mimetype": "text/x-python",
   "name": "python",
   "nbconvert_exporter": "python",
   "pygments_lexer": "ipython2",
   "version": "2.7.6"
  }
 },
 "nbformat": 4,
 "nbformat_minor": 5
}
