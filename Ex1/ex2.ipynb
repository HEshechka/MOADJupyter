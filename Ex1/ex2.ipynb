{
 "cells": [
  {
   "cell_type": "code",
   "id": "initial_id",
   "metadata": {
    "collapsed": true,
    "ExecuteTime": {
     "end_time": "2025-02-25T10:25:40.754295Z",
     "start_time": "2025-02-25T10:25:40.749084Z"
    }
   },
   "source": [
    "import os\n",
    "import matplotlib.pyplot as plt\n",
    "import numpy as np\n",
    "import pandas as pd\n",
    "import seaborn as sns\n",
    "from sklearn.linear_model import LinearRegression\n",
    "from sklearn.metrics import r2_score, mean_absolute_error, mean_squared_error, median_absolute_error, mean_absolute_percentage_error, max_error"
   ],
   "outputs": [],
   "execution_count": 15
  },
  {
   "metadata": {
    "ExecuteTime": {
     "end_time": "2025-02-25T10:25:40.922792Z",
     "start_time": "2025-02-25T10:25:40.774910Z"
    }
   },
   "cell_type": "code",
   "source": [
    "class LibsLeastSquaresRegression:\n",
    "    def __init__(self, days=0, views=0, downloads=0):\n",
    "        if os.path.exists('site_data.csv'):\n",
    "            # Если CSV существует, загружаем данные из него\n",
    "            self.df = pd.read_csv('site_data.csv')\n",
    "            self.days = np.array(self.df['День'])\n",
    "            self.views = np.array(self.df['Посещения'])\n",
    "            self.downloads = np.array(self.df['Скачивания'])\n",
    "        else:\n",
    "            # Если CSV нет, создаем DataFrame из переданных данных\n",
    "            self.days = np.array(days)\n",
    "            self.views = np.array(views)\n",
    "            self.downloads = np.array(downloads)\n",
    "            self.df = pd.DataFrame({'День': self.days, 'Посещения': self.views, 'Скачивания': self.downloads})\n",
    "            self.df.to_csv('site_data.csv', index=False)\n",
    "    \n",
    "    def mean(self, values):\n",
    "        \"\"\"Вычисляет среднее значение списка чисел.\"\"\"\n",
    "        return np.mean(values)\n",
    "\n",
    "    def variance(self, values):\n",
    "        \"\"\"Вычисляет дисперсию - среднеквадратичное отклонение значений относительно среднего.\n",
    "        Чем больше дисперсия, тем сильнее разброс данных относительно их среднего значения.\"\"\"\n",
    "        return np.var(values)\n",
    "    \n",
    "    def correlation(self, x, y):\n",
    "        \"\"\"Вычисляет коэффициент корреляции - нормированную меру линейной зависимости между двумя переменными.\n",
    "        Принимает значения от -1 до 1: \n",
    "        - 1 означает сильную положительную зависимость,\n",
    "        - -1 означает сильную отрицательную зависимость,\n",
    "        - 0 означает отсутствие линейной зависимости.\"\"\"\n",
    "        return np.corrcoef(x, y)[0, 1]\n",
    "    \n",
    "    def plot_graphs(self):\n",
    "        \"\"\"Строит графики линейной регрессии.\"\"\"\n",
    "        sns.scatterplot(x=self.views, y=self.downloads)\n",
    "        model = LinearRegression().fit(self.views.reshape(-1, 1), self.downloads)\n",
    "        predictions = model.predict(self.views.reshape(-1, 1))\n",
    "        plt.plot(self.views, predictions, color='red', label='Линейная регрессия y = 1.79x + 0.01')\n",
    "        plt.xlabel('Посещения сайта')\n",
    "        plt.ylabel('Скачивания')\n",
    "        plt.legend()\n",
    "        plt.grid()\n",
    "        plt.title('Регрессия: посещения -> скачивания')\n",
    "        plt.show()\n",
    "    \n",
    "    def sklearn_regression(self):\n",
    "        \"\"\"Построение модели линейной регрессии средствами Scikit-Learn.\"\"\"\n",
    "        model = LinearRegression()\n",
    "        x = self.views.reshape(-1, 1)\n",
    "        y = self.downloads\n",
    "        model.fit(x, y)\n",
    "        y_pred = model.predict(x)\n",
    "        \n",
    "        # Вывод коэффициентов модели\n",
    "        print(f'Коэффициенты sklearn: a = {model.intercept_:.2f}, b = {model.coef_[0]:.2f}')\n",
    "        \n",
    "        # Оценка качества модели\n",
    "        print(\"Метрики качества модели:\")\n",
    "        # Показывает, насколько хорошо модель объясняет данные (1 - идеальная модель, 0 - случайность)\n",
    "        print(f'Коэффициент детерминации R^2: {r2_score(y, y_pred):.2f}') \n",
    "        # Наибольшее отклонение предсказания от реального значения\n",
    "        print(f'Максимальная остаточная ошибка (MRE): {max_error(y, y_pred):.2f}')\n",
    "        # Средняя разница между предсказанными и фактическими значениями\n",
    "        print(f'Средняя абсолютная ошибка (MAE): {mean_absolute_error(y, y_pred):.2f}') \n",
    "        # Оценка разброса ошибок, квадрат средних отклонений\n",
    "        print(f'Среднеквадратичная ошибка (MSE): {mean_squared_error(y, y_pred):.2f}') \n",
    "        # Медиана всех абсолютных ошибок\n",
    "        print(f'Медианная абсолютная ошибка (Median AE): {median_absolute_error(y, y_pred):.2f}') \n",
    "        # Показывает среднюю ошибку в процентах от реальных значений\n",
    "        print(f'Средняя абсолютная процентная ошибка (MAPE): {mean_absolute_percentage_error(y, y_pred):.2f}') \n"
   ],
   "id": "ad1861b806bfed4f",
   "outputs": [],
   "execution_count": 16
  },
  {
   "metadata": {},
   "cell_type": "markdown",
   "source": "## Подготовка данных:",
   "id": "66d017bee2a39894"
  },
  {
   "metadata": {
    "ExecuteTime": {
     "end_time": "2025-02-25T10:25:40.925798Z",
     "start_time": "2025-02-25T10:25:40.923847Z"
    }
   },
   "cell_type": "code",
   "source": [
    "days = range(1, 11)\n",
    "views = np.array([5252, 7620, 941, 1159, 485, 299, 239, 195, 181, 180])\n",
    "downloads = np.array([21, 46, 9, 8, 3, 6, 4, 2, 2, 2])"
   ],
   "id": "4305bd6e4defa72b",
   "outputs": [],
   "execution_count": 17
  },
  {
   "metadata": {},
   "cell_type": "markdown",
   "source": "## Инициализация класса и вывод таблицы данных:",
   "id": "d728c5206790f658"
  },
  {
   "metadata": {
    "ExecuteTime": {
     "end_time": "2025-02-25T10:25:40.930603Z",
     "start_time": "2025-02-25T10:25:40.926337Z"
    }
   },
   "cell_type": "code",
   "source": [
    "regression = LibsLeastSquaresRegression()\n",
    "\n",
    "print(\"Таблица данных:\")\n",
    "print(regression.df)"
   ],
   "id": "3bed3a808cfd7690",
   "outputs": [
    {
     "name": "stdout",
     "output_type": "stream",
     "text": [
      "Таблица данных:\n",
      "   День  Посещения  Скачивания\n",
      "0     1       5252          21\n",
      "1     2       7620          46\n",
      "2     3        941           9\n",
      "3     4       1159           8\n",
      "4     5        485           3\n",
      "5     6        299           6\n",
      "6     7        239           4\n",
      "7     8        195           2\n",
      "8     9        181           2\n",
      "9    10        180           2\n"
     ]
    }
   ],
   "execution_count": 18
  },
  {
   "metadata": {},
   "cell_type": "markdown",
   "source": "## Вывод статистики:",
   "id": "a555c831589bbbe2"
  },
  {
   "metadata": {
    "ExecuteTime": {
     "end_time": "2025-02-25T10:25:40.934799Z",
     "start_time": "2025-02-25T10:25:40.931859Z"
    }
   },
   "cell_type": "code",
   "source": [
    "print(\"\\nСводные статистики (NumPy):\")\n",
    "print(f'Среднее посещений: {np.mean(views):.2f}, Среднее скачиваний: {np.mean(downloads):.2f}')\n",
    "print(f'Станд. отклонение посещений: {np.std(views):.2f}, Скачиваний: {np.std(downloads):.2f}')\n",
    "print(f'Дисперсия посещений: {np.var(views):.2f}, Дисперсия скачиваний: {np.var(downloads):.2f}')\n",
    "print(f'Мин/Макс посещений: {np.min(views)}, {np.max(views)}')\n",
    "print(f'Мин/Макс скачиваний: {np.min(downloads)}, {np.max(downloads)}')\n",
    "\n",
    "print(\"\\nКоэффициент корреляции:\")\n",
    "print(f'{regression.correlation(views, downloads):.2f}')"
   ],
   "id": "242c8957289f46a5",
   "outputs": [
    {
     "name": "stdout",
     "output_type": "stream",
     "text": [
      "\n",
      "Сводные статистики (NumPy):\n",
      "Среднее посещений: 1655.10, Среднее скачиваний: 10.30\n",
      "Станд. отклонение посещений: 2469.17, Скачиваний: 13.09\n",
      "Дисперсия посещений: 6096803.89, Дисперсия скачиваний: 171.41\n",
      "Мин/Макс посещений: 180, 7620\n",
      "Мин/Макс скачиваний: 2, 46\n",
      "\n",
      "Коэффициент корреляции:\n",
      "0.97\n"
     ]
    }
   ],
   "execution_count": 19
  },
  {
   "metadata": {},
   "cell_type": "markdown",
   "source": "## Построение графика регрессии:",
   "id": "58e3262fd8231b2"
  },
  {
   "metadata": {
    "ExecuteTime": {
     "end_time": "2025-02-25T10:25:41.000779Z",
     "start_time": "2025-02-25T10:25:40.935432Z"
    }
   },
   "cell_type": "code",
   "source": [
    "regression.plot_graphs()\n",
    "regression.sklearn_regression()"
   ],
   "id": "cf3c820a13dad7bb",
   "outputs": [
    {
     "data": {
      "text/plain": [
       "<Figure size 640x480 with 1 Axes>"
      ],
      "image/png": "[encoded data removed]"
     },
     "metadata": {},
     "output_type": "display_data"
    },
    {
     "name": "stdout",
     "output_type": "stream",
     "text": [
      "Коэффициенты sklearn: a = 1.79, b = 0.01\n",
      "Метрики качества модели:\n",
      "Коэффициент детерминации R^2: 0.94\n",
      "Максимальная остаточная ошибка (MRE): 7.79\n",
      "Средняя абсолютная ошибка (MAE): 2.26\n",
      "Среднеквадратичная ошибка (MSE): 10.32\n",
      "Медианная абсолютная ошибка (Median AE): 1.13\n",
      "Средняя абсолютная процентная ошибка (MAPE): 0.30\n"
     ]
    }
   ],
   "execution_count": 20
  },
  {
   "metadata": {},
   "cell_type": "markdown",
   "source": "#### $R^2$ - хороший результат, это значит, что модель может предсказать 94% данных",
   "id": "a1ca5b02e8e12165"
  },
  {
   "metadata": {},
   "cell_type": "markdown",
   "source": "#### Ошибки модели (MAE, MSE, Median AE) находятся на приемлемом уровне, но максимальная ошибка (MRE = 7.79) указывает на наличие выбросов или сложных случаев, которые модель плохо предсказывает.",
   "id": "cec47ce318ccb6f5"
  },
  {
   "metadata": {},
   "cell_type": "markdown",
   "source": "#### MAPE = 0.30 (30%) — это относительно высокая ошибка в процентах, что может быть важно, если точность в процентах критична для задачи.",
   "id": "c68b917cd968c594"
  },
  {
   "metadata": {},
   "cell_type": "markdown",
   "source": "## Вычисление и вывод прогнозов:",
   "id": "6789c0ee37317a26"
  },
  {
   "metadata": {
    "ExecuteTime": {
     "end_time": "2025-02-25T10:25:41.007115Z",
     "start_time": "2025-02-25T10:25:41.002443Z"
    }
   },
   "cell_type": "code",
   "source": [
    "x_pred_8000 = np.array([[8000]])\n",
    "model = LinearRegression().fit(views.reshape(-1, 1), downloads)\n",
    "y_pred_8000 = model.predict(x_pred_8000)\n",
    "print(f'Прогноз для 8000 посещений: {y_pred_8000[0]:.2f} скачиваний')\n",
    "\n",
    "y_pred_500 = 500\n",
    "x_pred_500 = (y_pred_500 - model.intercept_) / model.coef_[0]\n",
    "print(f'Для 500 скачиваний требуется примерно {x_pred_500:.2f} посещений')"
   ],
   "id": "6ad690377b69da5",
   "outputs": [
    {
     "name": "stdout",
     "output_type": "stream",
     "text": [
      "Прогноз для 8000 посещений: 42.91 скачиваний\n",
      "Для 500 скачиваний требуется примерно 96921.70 посещений\n"
     ]
    }
   ],
   "execution_count": 21
  }
 ],
 "metadata": {
  "kernelspec": {
   "display_name": "Python 3",
   "language": "python",
   "name": "python3"
  },
  "language_info": {
   "codemirror_mode": {
    "name": "ipython",
    "version": 2
   },
   "file_extension": ".py",
   "mimetype": "text/x-python",
   "name": "python",
   "nbconvert_exporter": "python",
   "pygments_lexer": "ipython2",
   "version": "2.7.6"
  }
 },
 "nbformat": 4,
 "nbformat_minor": 5
}
