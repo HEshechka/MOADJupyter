{
 "cells": [
  {
   "cell_type": "code",
   "execution_count": null,
   "id": "initial_id",
   "metadata": {
    "collapsed": true
   },
   "outputs": [],
   "source": [
    "from matplotlib import pyplot as plt\n",
    "from tensorflow.keras.datasets import mnist"
   ]
  },
  {
   "metadata": {},
   "cell_type": "code",
   "outputs": [],
   "execution_count": null,
   "source": "(x_train, y_train), (x_test, y_test) = mnist.load_data()",
   "id": "a70ab49eff7c6af6"
  },
  {
   "metadata": {},
   "cell_type": "code",
   "outputs": [],
   "execution_count": null,
   "source": [
    "fig, axes = plt.subplots(5, 5, figsize=(28, 28),\n",
    "                         subplot_kw={'xticks': [], 'yticks': []},\n",
    "                         gridspec_kw={'wspace': 0.05, 'hspace': 0.05}\n",
    "                         )\n",
    "\n",
    "for i, ax in enumerate(axes.flat):\n",
    "    ax.imshow(x_train[i], cmap='binary', interpolation='nearest')\n",
    "    ax.text(0.5, 0.5, str(y_train[i]), transform=ax.transAxes, color='green')"
   ],
   "id": "8484d00a52d8774a"
  }
 ],
 "metadata": {
  "kernelspec": {
   "display_name": "Python 3",
   "language": "python",
   "name": "python3"
  },
  "language_info": {
   "codemirror_mode": {
    "name": "ipython",
    "version": 2
   },
   "file_extension": ".py",
   "mimetype": "text/x-python",
   "name": "python",
   "nbconvert_exporter": "python",
   "pygments_lexer": "ipython2",
   "version": "2.7.6"
  }
 },
 "nbformat": 4,
 "nbformat_minor": 5
}
